{
 "cells": [
  {
   "cell_type": "code",
   "execution_count": 1,
   "metadata": {},
   "outputs": [
    {
     "name": "stdout",
     "output_type": "stream",
     "text": [
      "[[ 0.30769231  0.69230769]\n",
      " [-0.69230769 -0.30769231]]\n"
     ]
    }
   ],
   "source": [
    "# PACKAGE\n",
    "# Run this cell first once to load the dependancies.\n",
    "import numpy as np\n",
    "import numpy.linalg as la\n",
    "from numpy.linalg import norm, inv\n",
    "from numpy import transpose\n",
    "\n",
    "# GRADED FUNCTION\n",
    "# You should edit this cell.\n",
    "verySmallNumber = 1e-14 \n",
    "def gsBasis(A) :\n",
    "    B = np.array(A, dtype=np.float_) \n",
    "    for i in range(B.shape[1]) :\n",
    "        for j in range(i) :\n",
    "            B[:, i] = B[:, i] - B[:, i] @ B[:, j] * B[:, j]\n",
    "        if la.norm(B[:, i]) > verySmallNumber :\n",
    "            B[:, i] = B[:, i] / la.norm(B[:, i])\n",
    "        else :\n",
    "            B[:, i] = np.zeros_like(B[:, i])\n",
    "    return B\n",
    "# In this function, you will return the transformation matrix T,\n",
    "# having built it out of an orthonormal basis set E that you create from Bear's Basis\n",
    "# and a transformation matrix in the mirror's coordinates TE.\n",
    "def build_reflection_matrix(bearBasis) : # The parameter bearBasis is a 2×2 matrix that is passed to the function.\n",
    "    # Use the gsBasis function on bearBasis to get the mirror's orthonormal basis.\n",
    "    E = gsBasis(bearBasis)\n",
    "    # Write a matrix in component form that performs the mirror's reflection in the mirror's basis.\n",
    "    # Recall, the mirror operates by negating the last component of a vector.\n",
    "    # Replace a,b,c,d with appropriate values\n",
    "    TE = np.array([[1, 0],\n",
    "                   [0, -1]])\n",
    "    # Combine the matrices E and TE to produce your transformation matrix.\n",
    "    T = E @ TE * transpose(E)\n",
    "    # Finally, we return the result. There is no need to change this line.\n",
    "    return T\n",
    "dd = np.array([[1,-1], [1.5,2]])\n",
    "\n",
    "print(build_reflection_matrix(dd))\n",
    "\n"
   ]
  },
  {
   "cell_type": "code",
   "execution_count": null,
   "metadata": {},
   "outputs": [],
   "source": []
  }
 ],
 "metadata": {
  "kernelspec": {
   "display_name": "Python 3",
   "language": "python",
   "name": "python3"
  },
  "language_info": {
   "codemirror_mode": {
    "name": "ipython",
    "version": 3
   },
   "file_extension": ".py",
   "mimetype": "text/x-python",
   "name": "python",
   "nbconvert_exporter": "python",
   "pygments_lexer": "ipython3",
   "version": "3.7.1"
  }
 },
 "nbformat": 4,
 "nbformat_minor": 2
}
