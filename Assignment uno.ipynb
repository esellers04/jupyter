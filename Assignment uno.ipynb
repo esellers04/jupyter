{
 "cells": [
  {
   "cell_type": "code",
   "execution_count": 2,
   "metadata": {},
   "outputs": [
    {
     "name": "stdout",
     "output_type": "stream",
     "text": [
      "Your matrix is NOT invertible, and your crops are dying.\n"
     ]
    }
   ],
   "source": [
    "import numpy as yello\n",
    "\n",
    "a = yello.array([[1,1], [2, 2]]) \n",
    "\n",
    "determined = yello.linalg.det(a)\n",
    "\n",
    "if determined !=0:\n",
    "    print(\"Your matrix is invertible, and your crops are thriving.\")\n",
    "else:\n",
    "    print(\"Your matrix is NOT invertible, and your crops are dying.\")"
   ]
  },
  {
   "cell_type": "code",
   "execution_count": 4,
   "metadata": {},
   "outputs": [
    {
     "name": "stdout",
     "output_type": "stream",
     "text": [
      "Your matrix is invertible, and your crops are thriving.\n"
     ]
    }
   ],
   "source": [
    "import numpy as yello\n",
    "a = yello.array([[4,5,6], [12,3,-5],[2,8,10]])\n",
    "determined = yello.linalg.det(a)\n",
    "if determined !=0:\n",
    "    print(\"Your matrix is invertible, and your crops are thriving.\")\n",
    "else:\n",
    "    print(\"Your matrix is NOT invertible, and your crops are dying.\")"
   ]
  },
  {
   "cell_type": "code",
   "execution_count": 3,
   "metadata": {},
   "outputs": [
    {
     "data": {
      "text/plain": [
       "False"
      ]
     },
     "execution_count": 3,
     "metadata": {},
     "output_type": "execute_result"
    }
   ],
   "source": [
    "import numpy as np\n",
    "\n",
    "def isSingular(A) :\n",
    "    B = np.array(A, dtype=np.float_) \n",
    "    try:\n",
    "        fixRowZero(B)\n",
    "        fixRowOne(B)\n",
    "        fixRowTwo(B)\n",
    "        fixRowThree(B)\n",
    "    except MatrixIsSingular:\n",
    "        return True\n",
    "    return False\n",
    "\n",
    "class MatrixIsSingular(Exception): pass\n",
    "\n",
    "def fixRowZero(A) :\n",
    "    if A[0,0] == 0 :\n",
    "        A[0] = A[0] + A[1]\n",
    "    if A[0,0] == 0 :\n",
    "        A[0] = A[0] + A[2]\n",
    "    if A[0,0] == 0 :\n",
    "        A[0] = A[0] + A[3]\n",
    "    if A[0,0] == 0 :\n",
    "        raise MatrixIsSingular()\n",
    "    A[0] = A[0] / A[0,0]\n",
    "    return A\n",
    "\n",
    "def fixRowOne(A) :\n",
    "    A[1] = A[1] - A[1,0] * A[0]\n",
    "    if A[1,1] == 0 :\n",
    "        A[1] = A[1] + A[2]\n",
    "        A[1] = A[1] - A[1,0] * A[0]\n",
    "    if A[1,1] == 0 :\n",
    "        A[1] = A[1] + A[3]\n",
    "        A[1] = A[1] - A[1,0] * A[0]\n",
    "    if A[1,1] == 0 :\n",
    "        raise MatrixIsSingular()\n",
    "    A[1] = A[1] / A[1,1]\n",
    "    return A\n",
    "\n",
    "def fixRowTwo(A) :\n",
    "    A[2] = A[2] - A[2,0] * A[0]\n",
    "    A[2] = A[2] - A[2,0] * A[1]\n",
    "    if A[2,2] == 0 :\n",
    "        A[2] = A[2] + A[3]\n",
    "        A[2] = A[2] - A[2,0] * A[0]\n",
    "        A[2] = A[2] - A[2,0] * A[1]\n",
    "    if A[2,2] == 0 :\n",
    "        raise MatrixIsSingular()\n",
    "    A[2] = A[2] / A[2,2]\n",
    "    return A\n",
    "\n",
    "def fixRowThree(A) :\n",
    "    A[3] = A[3] - A[3,0] * A[0]\n",
    "    A[3] = A[3] - A[3,0] * A[1]\n",
    "    A[3] = A[3] - A[3,0] * A[2]\n",
    "    if A[3,3] == 0 :\n",
    "        raise MatrixIsSingular()\n",
    "    A[3] = A[3]/A[3,3]\n",
    "    return A\n",
    "\n",
    "a = np.array([[0,2,3,4],\n",
    "             [1,2,0,4],\n",
    "             [0,2,3,0],\n",
    "             [1,0,3,4]], dtype=np.float_)\n",
    "\n",
    "isSingular(a)"
   ]
  },
  {
   "cell_type": "code",
   "execution_count": null,
   "metadata": {},
   "outputs": [],
   "source": []
  }
 ],
 "metadata": {
  "kernelspec": {
   "display_name": "Python 3",
   "language": "python",
   "name": "python3"
  },
  "language_info": {
   "codemirror_mode": {
    "name": "ipython",
    "version": 3
   },
   "file_extension": ".py",
   "mimetype": "text/x-python",
   "name": "python",
   "nbconvert_exporter": "python",
   "pygments_lexer": "ipython3",
   "version": "3.7.1"
  }
 },
 "nbformat": 4,
 "nbformat_minor": 2
}
